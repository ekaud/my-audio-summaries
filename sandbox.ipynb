{
 "cells": [
  {
   "cell_type": "code",
   "execution_count": 19,
   "metadata": {},
   "outputs": [],
   "source": [
    "import concurrent.futures as cf\n",
    "import glob\n",
    "import io\n",
    "import os\n",
    "import time\n",
    "from pathlib import Path\n",
    "from tempfile import NamedTemporaryFile\n",
    "from typing import List, Literal\n",
    "\n",
    "from dotenv import load_dotenv\n",
    "from loguru import logger\n",
    "from openai import OpenAI\n",
    "from promptic import llm\n",
    "from pydantic import BaseModel, ValidationError\n",
    "from pypdf import PdfReader\n",
    "from tenacity import retry, retry_if_exception_type"
   ]
  },
  {
   "cell_type": "markdown",
   "metadata": {},
   "source": [
    "# Load environment variables"
   ]
  },
  {
   "cell_type": "code",
   "execution_count": 20,
   "metadata": {},
   "outputs": [
    {
     "name": "stdout",
     "output_type": "stream",
     "text": [
      "API keys loaded\n"
     ]
    }
   ],
   "source": [
    "current_dir = Path.cwd()\n",
    "BASE_DIR = current_dir / \"docs-to-audio\"\n",
    "# print(BASE_DIR)\n",
    "load_dotenv(BASE_DIR / \".env\")\n",
    "\n",
    "if os.getenv(\"OPENAI_API_KEY\")  and os.getenv(\"GEMINI_API_KEY\"):        \n",
    "    print(\"API keys loaded\")\n",
    "else:\n",
    "    print(\"WARNING: API keys not found\")\n"
   ]
  },
  {
   "cell_type": "markdown",
   "metadata": {},
   "source": [
    "# Core Functions"
   ]
  },
  {
   "cell_type": "code",
   "execution_count": 21,
   "metadata": {},
   "outputs": [],
   "source": [
    "class DialogueItem(BaseModel):\n",
    "    text: str\n",
    "    speaker: Literal[\"female-1\", \"male-1\", \"female-2\"]\n",
    "\n",
    "    @property\n",
    "    def voice(self):\n",
    "        return {\n",
    "            \"female-1\": \"alloy\",\n",
    "            \"male-1\": \"onyx\",\n",
    "            \"female-2\": \"shimmer\",\n",
    "        }[self.speaker]\n",
    "\n",
    "\n",
    "class Dialogue(BaseModel):\n",
    "    scratchpad: str\n",
    "    dialogue: List[DialogueItem]\n",
    "\n",
    "\n",
    "def get_mp3(text: str, voice: str, api_key: str = None) -> bytes:\n",
    "    client = OpenAI(\n",
    "        api_key=api_key or os.getenv(\"OPENAI_API_KEY\"),\n",
    "    )\n",
    "\n",
    "    with client.audio.speech.with_streaming_response.create(\n",
    "        model=\"tts-1\",\n",
    "        voice=voice,\n",
    "        input=text,\n",
    "    ) as response:\n",
    "        with io.BytesIO() as file:\n",
    "            for chunk in response.iter_bytes():\n",
    "                file.write(chunk)\n",
    "            return file.getvalue()\n",
    "\n",
    "\n",
    "def generate_audio(file: str, openai_api_key: str = None) -> bytes:\n",
    "\n",
    "    if not (os.getenv(\"OPENAI_API_KEY\") or openai_api_key):\n",
    "        raise gr.Error(\"OpenAI API key is required\")\n",
    "\n",
    "    with Path(file).open(\"rb\") as f:\n",
    "        reader = PdfReader(f)\n",
    "        text = \"\\n\\n\".join([page.extract_text() for page in reader.pages])\n",
    "\n",
    "    @retry(retry=retry_if_exception_type(ValidationError))\n",
    "    @llm(\n",
    "        model=\"gemini/gemini-1.5-flash-002\",\n",
    "    )\n",
    "    def generate_dialogue(text: str) -> Dialogue:\n",
    "        \"\"\"\n",
    "        Your task is to take the input text provided and turn it into an engaging, informative podcast dialogue. The input text may be messy or unstructured, as it could come from a variety of sources like PDFs or web pages. Don't worry about the formatting issues or any irrelevant information; your goal is to extract the key points and interesting facts that could be discussed in a podcast.\n",
    "\n",
    "        Here is the input text you will be working with:\n",
    "\n",
    "        <input_text>\n",
    "        {text}\n",
    "        </input_text>\n",
    "\n",
    "        First, carefully read through the input text and identify the main topics, key points, and any interesting facts or anecdotes. Think about how you could present this information in a fun, engaging way that would be suitable for an audio podcast.\n",
    "\n",
    "        <scratchpad>\n",
    "        Brainstorm creative ways to discuss the main topics and key points you identified in the input text. Consider using analogies, storytelling techniques, or hypothetical scenarios to make the content more relatable and engaging for listeners.\n",
    "\n",
    "        Keep in mind that your podcast should be accessible to a general audience, so avoid using too much jargon or assuming prior knowledge of the topic. If necessary, think of ways to briefly explain any complex concepts in simple terms.\n",
    "\n",
    "        Use your imagination to fill in any gaps in the input text or to come up with thought-provoking questions that could be explored in the podcast. The goal is to create an informative and entertaining dialogue, so feel free to be creative in your approach.\n",
    "\n",
    "        Write your brainstorming ideas and a rough outline for the podcast dialogue here. Be sure to note the key insights and takeaways you want to reiterate at the end.\n",
    "        </scratchpad>\n",
    "\n",
    "        Now that you have brainstormed ideas and created a rough outline, it's time to write the actual podcast dialogue. Aim for a natural, conversational flow between the host and any guest speakers. Incorporate the best ideas from your brainstorming session and make sure to explain any complex topics in an easy-to-understand way.\n",
    "\n",
    "        <podcast_dialogue>\n",
    "        Write your engaging, informative podcast dialogue here, based on the key points and creative ideas you came up with during the brainstorming session. Use a conversational tone and include any necessary context or explanations to make the content accessible to a general audience. Use made-up names for the hosts and guests to create a more engaging and immersive experience for listeners. Do not include any bracketed placeholders like [Host] or [Guest]. Design your output to be read aloud -- it will be directly converted into audio.\n",
    "\n",
    "        Make the dialogue as long and detailed as possible, while still staying on topic and maintaining an engaging flow. Aim to use your full output capacity to create the longest podcast episode you can, while still communicating the key information from the input text in an entertaining way.\n",
    "\n",
    "        At the end of the dialogue, have the host and guest speakers naturally summarize the main insights and takeaways from their discussion. This should flow organically from the conversation, reiterating the key points in a casual, conversational manner. Avoid making it sound like an obvious recap - the goal is to reinforce the central ideas one last time before signing off.\n",
    "        </podcast_dialogue>\n",
    "        \"\"\"\n",
    "\n",
    "    llm_output = generate_dialogue(text)\n",
    "\n",
    "    audio = b\"\"\n",
    "    transcript = \"\"\n",
    "\n",
    "    characters = 0\n",
    "\n",
    "    with cf.ThreadPoolExecutor() as executor:\n",
    "        futures = []\n",
    "        for line in llm_output.dialogue:\n",
    "            transcript_line = f\"{line.speaker}: {line.text}\"\n",
    "            future = executor.submit(get_mp3, line.text, line.voice, openai_api_key)\n",
    "            futures.append((future, transcript_line))\n",
    "            characters += len(line.text)\n",
    "\n",
    "        for future, transcript_line in futures:\n",
    "            audio_chunk = future.result()\n",
    "            audio += audio_chunk\n",
    "            transcript += transcript_line + \"\\n\\n\"\n",
    "\n",
    "    logger.info(f\"Generated {characters} characters of audio\")\n",
    "\n",
    "    # Get the original filename without extension\n",
    "    input_filename = Path(file).stem\n",
    "    \n",
    "    # Create a sanitized version of the filename\n",
    "    safe_filename = \"\".join(c if c.isalnum() or c in ('-', '_') else '-' if c.isspace() else ''\n",
    "                           for c in input_filename).rstrip('-')\n",
    "    \n",
    "    # Create output directory if it doesn't exist\n",
    "    output_directory = \"./sandbox_examples/audio/\"\n",
    "    os.makedirs(output_directory, exist_ok=True)\n",
    "\n",
    "    # Create output filepath with timestamp to ensure uniqueness\n",
    "    timestamp = time.strftime(\"%Y-%m-%d_%H-%M-%S\")\n",
    "    output_filepath = os.path.join(output_directory, f\"{safe_filename}_{timestamp}.mp3\")\n",
    "    \n",
    "    # Write the audio to the file\n",
    "    with open(output_filepath, \"wb\") as f:\n",
    "        f.write(audio)\n",
    "\n",
    "    # Clean up old files (files over a day old)\n",
    "    for file in glob.glob(f\"{output_directory}*.mp3\"):\n",
    "        if os.path.isfile(file) and time.time() - os.path.getmtime(file) > 24 * 60 * 60:\n",
    "            os.remove(file)\n",
    "\n",
    "    return output_filepath, transcript"
   ]
  },
  {
   "cell_type": "code",
   "execution_count": 6,
   "metadata": {},
   "outputs": [
    {
     "name": "stderr",
     "output_type": "stream",
     "text": [
      "\u001b[32m2025-01-07 16:57:05.927\u001b[0m | \u001b[1mINFO    \u001b[0m | \u001b[36m__main__\u001b[0m:\u001b[36mgenerate_audio\u001b[0m:\u001b[36m101\u001b[0m - \u001b[1mGenerated 3313 characters of audio\u001b[0m\n"
     ]
    },
    {
     "data": {
      "text/plain": [
       "('./sandbox_examples/audio/Gene-therapy-for-deafness_2025-01-07_16-57-05.mp3',\n",
       " 'female-1: Welcome to \"BioBreakthroughs,\" the podcast that explores the amazing advancements in the world of biology and medicine. Today, we\\'re diving deep into a truly remarkable story of hope and healing.\\n\\nfemale-1: And I\\'m thrilled to be joined by Dr. Anya Sharma, a leading geneticist who\\'s been at the forefront of this incredible work.\\n\\nfemale-2: It\\'s a pleasure to be here. Thanks for having me.\\n\\nfemale-1: Dr. Sharma, let\\'s talk about this groundbreaking gene therapy for hearing loss.  I\\'ve heard stories about children born deaf who are now hearing, and it\\'s absolutely incredible.\\n\\nfemale-2: It is. We\\'ve made significant strides in treating DFNB9, a type of hereditary deafness that affects about 2-8% of people born with hearing loss. Imagine your ears are a beautifully complex machine, and the OTOF gene is like a tiny, essential gear.  In DFNB9, this gear is broken, hindering the transmission of sound signals from the inner ear to the brain.\\n\\nfemale-1: So, how does gene therapy act as a \\'repair\\' for this \\'broken gear\\'?\\n\\nfemale-2: Think of it like a software update for your body. We\\'re using a harmless virus—an adeno-associated virus, or AAV—as a delivery system. This modified virus carries a healthy copy of the OTOF gene directly to the inner ear cells. It\\'s like replacing the faulty code with a functional one. The cells then begin producing the missing otoferlin protein, restoring the critical link in the hearing pathway.\\n\\nfemale-1: That\\'s truly amazing. And what have the results of the clinical trials been?\\n\\nfemale-2: The results have been astonishing. In a recent trial, five children received gene therapy in both ears.  Over a period of several weeks, they showed dramatic hearing improvements.  Two even began to appreciate music for the first time in their lives!  This is a big step forward, especially given the improvements in speech recognition and sound localization we observed when treatment included both ears.\\n\\nfemale-1: That\\'s incredible! Were there any side effects?\\n\\nfemale-2: Yes, some mild side effects were observed, primarily increased white blood cell count and cholesterol.  But importantly, none of these were serious or dose-limiting. The therapy was deemed safe and effective.\\n\\nfemale-1: That\\'s reassuring. So, what are the next steps in this research?\\n\\nfemale-2: The trial is ongoing and we’re conducting further monitoring, but the results have paved the way for larger international trials. This is an amazing moment; we\\'re not only addressing DFNB9 but also opening doors to treating other forms of genetic hearing loss. The potential for broader applications of this gene therapy technology is immensely exciting.\\n\\nfemale-1: Dr. Sharma, thank you so much for shedding light on this incredible breakthrough.  This is truly a testament to the power of scientific innovation and its potential to transform lives.\\n\\nfemale-2: My pleasure. I\\'m excited for what the future holds.\\n\\nfemale-1: And that\\'s all the time we have for today.  To recap, we\\'ve learned about the revolutionary gene therapy successfully treating children with DFNB9, a type of inherited deafness.  This minimally invasive procedure uses a modified virus to deliver a healthy copy of the OTOF gene, restoring hearing function. While there were mild side effects, the therapy proved safe and remarkably effective, opening doors to a future where genetic hearing loss might be a thing of the past.  Join us next time for more fascinating explorations of biological breakthroughs!\\n\\n')"
      ]
     },
     "execution_count": 6,
     "metadata": {},
     "output_type": "execute_result"
    }
   ],
   "source": [
    "example_list=[str(p) for p in Path(BASE_DIR / \"examples\").glob(\"*.pdf\")]\n",
    "example = example_list[0]\n",
    "generate_audio(example)\n"
   ]
  },
  {
   "cell_type": "markdown",
   "metadata": {},
   "source": [
    "# Split main function up into smaller functions"
   ]
  },
  {
   "cell_type": "code",
   "execution_count": 51,
   "metadata": {},
   "outputs": [
    {
     "name": "stdout",
     "output_type": "stream",
     "text": [
      "<class 'pypdf._page._VirtualList'>\n",
      "Cosmos » Biology\n",
      "Gene therapy restores hearing to children with inherited deafness\n",
      "Credit: Nick Dolding/Getty Images\n",
      "\u0000e \u0000rst clinical trial to administer gene therapy to both ears in one person has restored hearing function to 5\n",
      "children born with a form of inherited deafness, astounding the research team..\n",
      "Two of the children even gained an ability to appreciate music.\n",
      "\u0000e success of the new approach is detailed in a new study published in Nature M edicin e. \u0000e work builds on the \u0000rst\n",
      "phase of t\n"
     ]
    }
   ],
   "source": [
    "file = example_list[0]\n",
    "with Path(file).open(\"rb\") as f:\n",
    "        reader = PdfReader(f)\n",
    "        print(type(reader.pages))\n",
    "        tmp = reader.pages[0]\n",
    "        text = \"\\n\\n\".join([page.extract_text() for page in reader.pages])\n",
    "\n",
    "print(text[:500])\n",
    "text1 = text[:500]"
   ]
  },
  {
   "cell_type": "code",
   "execution_count": 1,
   "metadata": {},
   "outputs": [
    {
     "name": "stderr",
     "output_type": "stream",
     "text": [
      "\u001b[32m2025-01-08 16:36:33.301\u001b[0m | \u001b[1mINFO    \u001b[0m | \u001b[36msrc.fetchers.gmail\u001b[0m:\u001b[36m_log\u001b[0m:\u001b[36m60\u001b[0m - \u001b[1mSearching with query: has:attachment after:2025/01/01\u001b[0m\n",
      "\u001b[32m2025-01-08 16:36:33.497\u001b[0m | \u001b[1mINFO    \u001b[0m | \u001b[36msrc.fetchers.gmail\u001b[0m:\u001b[36m_log\u001b[0m:\u001b[36m60\u001b[0m - \u001b[1mFound 3 emails with attachments\u001b[0m\n",
      "\u001b[32m2025-01-08 16:36:33.593\u001b[0m | \u001b[1mINFO    \u001b[0m | \u001b[36msrc.fetchers.gmail\u001b[0m:\u001b[36m_log\u001b[0m:\u001b[36m60\u001b[0m - \u001b[1m\n",
      "Processing email: gene therapy article - deafness\u001b[0m\n",
      "\u001b[32m2025-01-08 16:36:33.594\u001b[0m | \u001b[1mINFO    \u001b[0m | \u001b[36msrc.fetchers.gmail\u001b[0m:\u001b[36m_log\u001b[0m:\u001b[36m60\u001b[0m - \u001b[1mMessage ID: 19447ad609e9df2e\u001b[0m\n",
      "\u001b[32m2025-01-08 16:36:33.596\u001b[0m | \u001b[1mINFO    \u001b[0m | \u001b[36msrc.fetchers.gmail\u001b[0m:\u001b[36m_log\u001b[0m:\u001b[36m60\u001b[0m - \u001b[1m=== VERIFICATION LINE ===\u001b[0m\n",
      "\u001b[32m2025-01-08 16:36:33.597\u001b[0m | \u001b[1mINFO    \u001b[0m | \u001b[36msrc.fetchers.gmail\u001b[0m:\u001b[36m_log\u001b[0m:\u001b[36m60\u001b[0m - \u001b[1mFound 3 parts in the email\u001b[0m\n",
      "\u001b[32m2025-01-08 16:36:33.599\u001b[0m | \u001b[1mINFO    \u001b[0m | \u001b[36msrc.fetchers.gmail\u001b[0m:\u001b[36m_log\u001b[0m:\u001b[36m60\u001b[0m - \u001b[1mFound file: Gene therapy for deafness.pdf (application/pdf)\u001b[0m\n",
      "\u001b[32m2025-01-08 16:36:33.599\u001b[0m | \u001b[1mINFO    \u001b[0m | \u001b[36msrc.fetchers.gmail\u001b[0m:\u001b[36m_log\u001b[0m:\u001b[36m60\u001b[0m - \u001b[1mFile type is supported: Gene therapy for deafness.pdf\u001b[0m\n",
      "\u001b[32m2025-01-08 16:36:33.837\u001b[0m | \u001b[1mINFO    \u001b[0m | \u001b[36msrc.fetchers.gmail\u001b[0m:\u001b[36m_log\u001b[0m:\u001b[36m60\u001b[0m - \u001b[1mFound file: Attention is all you need.pdf (application/pdf)\u001b[0m\n",
      "\u001b[32m2025-01-08 16:36:33.838\u001b[0m | \u001b[1mINFO    \u001b[0m | \u001b[36msrc.fetchers.gmail\u001b[0m:\u001b[36m_log\u001b[0m:\u001b[36m60\u001b[0m - \u001b[1mFile type is supported: Attention is all you need.pdf\u001b[0m\n",
      "\u001b[32m2025-01-08 16:36:34.218\u001b[0m | \u001b[1mINFO    \u001b[0m | \u001b[36msrc.fetchers.gmail\u001b[0m:\u001b[36m_log\u001b[0m:\u001b[36m60\u001b[0m - \u001b[1mFound file: Accessible Quantum Field Theory.pdf (application/pdf)\u001b[0m\n",
      "\u001b[32m2025-01-08 16:36:34.219\u001b[0m | \u001b[1mINFO    \u001b[0m | \u001b[36msrc.fetchers.gmail\u001b[0m:\u001b[36m_log\u001b[0m:\u001b[36m60\u001b[0m - \u001b[1mFile type is supported: Accessible Quantum Field Theory.pdf\u001b[0m\n",
      "\u001b[32m2025-01-08 16:36:34.903\u001b[0m | \u001b[1mINFO    \u001b[0m | \u001b[36msrc.fetchers.gmail\u001b[0m:\u001b[36m_log\u001b[0m:\u001b[36m60\u001b[0m - \u001b[1m\n",
      "Processing email: test email 3: three attachments in this one\u001b[0m\n",
      "\u001b[32m2025-01-08 16:36:34.904\u001b[0m | \u001b[1mINFO    \u001b[0m | \u001b[36msrc.fetchers.gmail\u001b[0m:\u001b[36m_log\u001b[0m:\u001b[36m60\u001b[0m - \u001b[1mMessage ID: 19447517ff626f23\u001b[0m\n",
      "\u001b[32m2025-01-08 16:36:34.905\u001b[0m | \u001b[1mINFO    \u001b[0m | \u001b[36msrc.fetchers.gmail\u001b[0m:\u001b[36m_log\u001b[0m:\u001b[36m60\u001b[0m - \u001b[1m=== VERIFICATION LINE ===\u001b[0m\n",
      "\u001b[32m2025-01-08 16:36:34.906\u001b[0m | \u001b[1mINFO    \u001b[0m | \u001b[36msrc.fetchers.gmail\u001b[0m:\u001b[36m_log\u001b[0m:\u001b[36m60\u001b[0m - \u001b[1mFound 3 parts in the email\u001b[0m\n",
      "\u001b[32m2025-01-08 16:36:34.906\u001b[0m | \u001b[1mINFO    \u001b[0m | \u001b[36msrc.fetchers.gmail\u001b[0m:\u001b[36m_log\u001b[0m:\u001b[36m60\u001b[0m - \u001b[1mFound file: en-evolved-circuit.pdf (application/pdf)\u001b[0m\n",
      "\u001b[32m2025-01-08 16:36:34.907\u001b[0m | \u001b[1mINFO    \u001b[0m | \u001b[36msrc.fetchers.gmail\u001b[0m:\u001b[36m_log\u001b[0m:\u001b[36m60\u001b[0m - \u001b[1mFile type is supported: en-evolved-circuit.pdf\u001b[0m\n",
      "\u001b[32m2025-01-08 16:36:35.302\u001b[0m | \u001b[1mINFO    \u001b[0m | \u001b[36msrc.fetchers.gmail\u001b[0m:\u001b[36m_log\u001b[0m:\u001b[36m60\u001b[0m - \u001b[1mFound file: s41586-024-07953-5.pdf (application/pdf)\u001b[0m\n",
      "\u001b[32m2025-01-08 16:36:35.302\u001b[0m | \u001b[1mINFO    \u001b[0m | \u001b[36msrc.fetchers.gmail\u001b[0m:\u001b[36m_log\u001b[0m:\u001b[36m60\u001b[0m - \u001b[1mFile type is supported: s41586-024-07953-5.pdf\u001b[0m\n",
      "\u001b[32m2025-01-08 16:36:36.162\u001b[0m | \u001b[1mINFO    \u001b[0m | \u001b[36msrc.fetchers.gmail\u001b[0m:\u001b[36m_log\u001b[0m:\u001b[36m60\u001b[0m - \u001b[1mFound file: 2205.14135v2.pdf (application/pdf)\u001b[0m\n",
      "\u001b[32m2025-01-08 16:36:36.163\u001b[0m | \u001b[1mINFO    \u001b[0m | \u001b[36msrc.fetchers.gmail\u001b[0m:\u001b[36m_log\u001b[0m:\u001b[36m60\u001b[0m - \u001b[1mFile type is supported: 2205.14135v2.pdf\u001b[0m\n",
      "\u001b[32m2025-01-08 16:36:36.651\u001b[0m | \u001b[1mINFO    \u001b[0m | \u001b[36msrc.fetchers.gmail\u001b[0m:\u001b[36m_log\u001b[0m:\u001b[36m60\u001b[0m - \u001b[1m\n",
      "Processing email: test email 2: With attachment\u001b[0m\n",
      "\u001b[32m2025-01-08 16:36:36.652\u001b[0m | \u001b[1mINFO    \u001b[0m | \u001b[36msrc.fetchers.gmail\u001b[0m:\u001b[36m_log\u001b[0m:\u001b[36m60\u001b[0m - \u001b[1mMessage ID: 194474c52b7b4f5c\u001b[0m\n",
      "\u001b[32m2025-01-08 16:36:36.653\u001b[0m | \u001b[1mINFO    \u001b[0m | \u001b[36msrc.fetchers.gmail\u001b[0m:\u001b[36m_log\u001b[0m:\u001b[36m60\u001b[0m - \u001b[1m=== VERIFICATION LINE ===\u001b[0m\n",
      "\u001b[32m2025-01-08 16:36:36.653\u001b[0m | \u001b[1mINFO    \u001b[0m | \u001b[36msrc.fetchers.gmail\u001b[0m:\u001b[36m_log\u001b[0m:\u001b[36m60\u001b[0m - \u001b[1mFound 1 parts in the email\u001b[0m\n",
      "\u001b[32m2025-01-08 16:36:36.654\u001b[0m | \u001b[1mINFO    \u001b[0m | \u001b[36msrc.fetchers.gmail\u001b[0m:\u001b[36m_log\u001b[0m:\u001b[36m60\u001b[0m - \u001b[1mFound file: science.adn2600.pdf (application/pdf)\u001b[0m\n",
      "\u001b[32m2025-01-08 16:36:36.654\u001b[0m | \u001b[1mINFO    \u001b[0m | \u001b[36msrc.fetchers.gmail\u001b[0m:\u001b[36m_log\u001b[0m:\u001b[36m60\u001b[0m - \u001b[1mFile type is supported: science.adn2600.pdf\u001b[0m\n",
      "\u001b[32m2025-01-08 16:36:37.205\u001b[0m | \u001b[1mINFO    \u001b[0m | \u001b[36msrc.fetchers.gmail\u001b[0m:\u001b[36m_log\u001b[0m:\u001b[36m60\u001b[0m - \u001b[1mSuccessfully processed 7 attachments\u001b[0m\n"
     ]
    },
    {
     "name": "stdout",
     "output_type": "stream",
     "text": [
      "7 found, with titles:\n",
      "Gene therapy for deafness.pdf\n",
      "Attention is all you need.pdf\n",
      "Accessible Quantum Field Theory.pdf\n",
      "en-evolved-circuit.pdf\n",
      "s41586-024-07953-5.pdf\n",
      "2205.14135v2.pdf\n",
      "science.adn2600.pdf\n"
     ]
    }
   ],
   "source": [
    "import asyncio\n",
    "from io import BytesIO\n",
    "from src.test_gmail_fetch import test_fetch\n",
    "\n",
    "# Assuming you have your PDF as bytes in a variable called pdf_bytes\n",
    "async def run_fetch():\n",
    "    return await test_fetch(verbose=True)\n",
    "\n",
    "documents = await run_fetch()\n",
    "print(f'{len(documents)} found, with titles:')\n",
    "print('\\n'.join(doc.title for doc in documents))\n"
   ]
  },
  {
   "cell_type": "code",
   "execution_count": 47,
   "metadata": {},
   "outputs": [
    {
     "name": "stdout",
     "output_type": "stream",
     "text": [
      "7\n",
      "Gene therapy for deafness.pdf\n",
      "Attention is all you need.pdf\n",
      "Accessible Quantum Field Theory.pdf\n",
      "en-evolved-circuit.pdf\n",
      "s41586-024-07953-5.pdf\n",
      "2205.14135v2.pdf\n",
      "science.adn2600.pdf\n",
      "gmail Gene therapy for deafness.pdf\n",
      "b'%PDF-1.4\\n%'\n"
     ]
    }
   ],
   "source": [
    "print(len(documents))\n",
    "print('\\n'.join(doc.title for doc in documents))\n",
    "doc = documents[0]\n",
    "# print(doc.model_fields)\n",
    "print(doc.source, doc.title)\n",
    "print(doc.content[:10])\n",
    "# # # Use BytesIO instead of file path\n",
    "# reader = PdfReader(BytesIO(doc.content))\n",
    "# tmp = reader.pages[0]\n",
    "# text = \"\\n\\n\".join([page.extract_text() for page in reader.pages])\n",
    "# print(tmp.extract_text())"
   ]
  },
  {
   "cell_type": "code",
   "execution_count": 53,
   "metadata": {},
   "outputs": [
    {
     "name": "stdout",
     "output_type": "stream",
     "text": [
      "\n",
      "Extracted text:\n",
      "Texts are the same\n"
     ]
    }
   ],
   "source": [
    "from io import BytesIO\n",
    "import base64\n",
    "from pypdf import PdfReader\n",
    "from loguru import logger\n",
    "\n",
    "# First, let's check the content\n",
    "def inspect_pdf_content(doc):\n",
    "    # Check the first few bytes to verify it's a PDF\n",
    "    pdf_signature = b'%PDF-'\n",
    "    if not doc.content.startswith(pdf_signature):\n",
    "        logger.error(f\"Content does not appear to be a valid PDF. First bytes: {doc.content[:20]}\")\n",
    "        return False\n",
    "    \n",
    "    # Try to read the PDF\n",
    "    try:\n",
    "        pdf = PdfReader(BytesIO(doc.content))\n",
    "        # Get number of pages\n",
    "        num_pages = len(pdf.pages)\n",
    "        logger.info(f\"Successfully opened PDF with {num_pages} pages\")\n",
    "        \n",
    "        # Try to extract text from first page\n",
    "        first_page_text = pdf.pages[0].extract_text()\n",
    "        logger.info(f\"First 100 characters of text: {first_page_text[:100]}\")\n",
    "        \n",
    "        return pdf\n",
    "    except Exception as e:\n",
    "        logger.error(f\"Error reading PDF: {str(e)}\")\n",
    "        return None\n",
    "\n",
    "# Use the function\n",
    "pdf = inspect_pdf_content(doc)\n",
    "if pdf:\n",
    "    # Extract text properly\n",
    "    text = \"\\n\\n\".join(\n",
    "        page.extract_text(\n",
    "            layout=True,  # Maintain text layout\n",
    "            space_width=1,  # Adjust space between words\n",
    "            line_margin=0.5  # Adjust line spacing\n",
    "        ) for page in pdf.pages\n",
    "    )\n",
    "    print(\"\\nExtracted text:\")\n",
    "    # print(text[:500])  # Print first 500 characters\n",
    "    text2 = text[:500]\n",
    "\n",
    "if text1 == text2:\n",
    "    print(\"Texts are the same\")\n",
    "else:\n",
    "    print(\"Texts are different\")\n"
   ]
  },
  {
   "cell_type": "code",
   "execution_count": 17,
   "metadata": {},
   "outputs": [
    {
     "name": "stdout",
     "output_type": "stream",
     "text": [
      "6/9/24, 2:01 PM Gene therapy restores hearing to children with inherited deafness\n",
      "Join Us Login Newsletters\n",
      "Biology Chemistry Engineering Mathematics Physics\n",
      "Cosmos » Biology\n",
      "Gene therapy restores hearing to children with inherited deafness\n",
      "Credit: Nick Dolding/Getty Images\n",
      "June 7, 2024\n",
      "By Imma Perfetto\n",
      "\u0000e \u0000rst clinical trial to administer gene therapy to both ears in one person has restored hearing function to 5\n",
      "children born with a form of inherited deafness, astounding the research team..\n",
      "Two of the children even gained an ability to appreciate music.\n",
      "\u0000e success of the new approach is detailed in a new study published in Nature Medicine. \u0000e work builds on the \u0000rst\n",
      "phase of the trial, published earlier this year, in which children were treated in a single ear.\n",
      "“\u0000e results from these studies are astounding,” says study co-senior author Zheng-Yi Chen, an associate scientist in\n",
      "the Eaton-Peabody Laboratories at Massachusetts Eye and Ear in the US.\n",
      "“We continue to see the hearing ability of treated children dramatically progress and the new study shows added\n",
      "bene\u0000ts of the gene therapy when administrated to both ears, including the ability for sound source localisation and\n",
      "improvements in speech recognition in noisy environments.”\n",
      "Lead author Yilai Shu, an attending doctor in otolaryngology and an investigator at Eye and Ear, Nose, \u0000roat hospital\n",
      "of Fudan University, China, says: “restoring hearing in both ears of children who are born deaf can maximise the\n",
      "https://cosmosmagazine.com/science/biology/gene-therapy-restores-hearing-to-children-with-inherited-deafness/ 1/7\n"
     ]
    }
   ],
   "source": [
    "import pdfplumber\n",
    "\n",
    "file_path = example_list[0]\n",
    "\n",
    "with pdfplumber.open(file_path) as pdf:\n",
    "    tmp = pdf.pages[0]\n",
    "    print(tmp.extract_text())\n",
    "\n"
   ]
  },
  {
   "cell_type": "code",
   "execution_count": null,
   "metadata": {},
   "outputs": [],
   "source": [
    " # @retry(retry=retry_if_exception_type(ValidationError))\n",
    "    # @llm(\n",
    "    #     model=\"gemini/gemini-1.5-flash-002\",\n",
    "    # )\n",
    "    # def generate_dialogue(text: str) -> Dialogue:\n",
    "    #     \"\"\"\n",
    "    #     Your task is to take the input text provided and turn it into an engaging, informative podcast dialogue. The input text may be messy or unstructured, as it could come from a variety of sources like PDFs or web pages. Don't worry about the formatting issues or any irrelevant information; your goal is to extract the key points and interesting facts that could be discussed in a podcast.\n",
    "\n",
    "    #     Here is the input text you will be working with:\n",
    "\n",
    "    #     <input_text>\n",
    "    #     {text}\n",
    "    #     </input_text>\n",
    "\n",
    "    #     First, carefully read through the input text and identify the main topics, key points, and any interesting facts or anecdotes. Think about how you could present this information in a fun, engaging way that would be suitable for an audio podcast.\n",
    "\n",
    "    #     <scratchpad>\n",
    "    #     Brainstorm creative ways to discuss the main topics and key points you identified in the input text. Consider using analogies, storytelling techniques, or hypothetical scenarios to make the content more relatable and engaging for listeners.\n",
    "\n",
    "    #     Keep in mind that your podcast should be accessible to a general audience, so avoid using too much jargon or assuming prior knowledge of the topic. If necessary, think of ways to briefly explain any complex concepts in simple terms.\n",
    "\n",
    "    #     Use your imagination to fill in any gaps in the input text or to come up with thought-provoking questions that could be explored in the podcast. The goal is to create an informative and entertaining dialogue, so feel free to be creative in your approach.\n",
    "\n",
    "    #     Write your brainstorming ideas and a rough outline for the podcast dialogue here. Be sure to note the key insights and takeaways you want to reiterate at the end.\n",
    "    #     </scratchpad>\n",
    "\n",
    "    #     Now that you have brainstormed ideas and created a rough outline, it's time to write the actual podcast dialogue. Aim for a natural, conversational flow between the host and any guest speakers. Incorporate the best ideas from your brainstorming session and make sure to explain any complex topics in an easy-to-understand way.\n",
    "\n",
    "    #     <podcast_dialogue>\n",
    "    #     Write your engaging, informative podcast dialogue here, based on the key points and creative ideas you came up with during the brainstorming session. Use a conversational tone and include any necessary context or explanations to make the content accessible to a general audience. Use made-up names for the hosts and guests to create a more engaging and immersive experience for listeners. Do not include any bracketed placeholders like [Host] or [Guest]. Design your output to be read aloud -- it will be directly converted into audio.\n",
    "\n",
    "    #     Make the dialogue as long and detailed as possible, while still staying on topic and maintaining an engaging flow. Aim to use your full output capacity to create the longest podcast episode you can, while still communicating the key information from the input text in an entertaining way.\n",
    "\n",
    "    #     At the end of the dialogue, have the host and guest speakers naturally summarize the main insights and takeaways from their discussion. This should flow organically from the conversation, reiterating the key points in a casual, conversational manner. Avoid making it sound like an obvious recap - the goal is to reinforce the central ideas one last time before signing off.\n",
    "    #     </podcast_dialogue>\n",
    "    #     \"\"\"\n",
    "\n",
    "    # llm_output = generate_dialogue(text)"
   ]
  }
 ],
 "metadata": {
  "kernelspec": {
   "display_name": ".venv",
   "language": "python",
   "name": "python3"
  },
  "language_info": {
   "codemirror_mode": {
    "name": "ipython",
    "version": 3
   },
   "file_extension": ".py",
   "mimetype": "text/x-python",
   "name": "python",
   "nbconvert_exporter": "python",
   "pygments_lexer": "ipython3",
   "version": "3.12.8"
  }
 },
 "nbformat": 4,
 "nbformat_minor": 2
}
