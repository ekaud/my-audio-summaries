{
 "cells": [
  {
   "cell_type": "code",
   "execution_count": 2,
   "metadata": {},
   "outputs": [],
   "source": [
    "import concurrent.futures as cf\n",
    "import glob\n",
    "import io\n",
    "import os\n",
    "import time\n",
    "from pathlib import Path\n",
    "from tempfile import NamedTemporaryFile\n",
    "from typing import List, Literal\n",
    "\n",
    "from dotenv import load_dotenv\n",
    "from loguru import logger\n",
    "from openai import OpenAI\n",
    "from promptic import llm\n",
    "from pydantic import BaseModel, ValidationError\n",
    "from pypdf import PdfReader\n",
    "from tenacity import retry, retry_if_exception_type"
   ]
  },
  {
   "cell_type": "markdown",
   "metadata": {},
   "source": [
    "# Load environment variables"
   ]
  },
  {
   "cell_type": "code",
   "execution_count": 3,
   "metadata": {},
   "outputs": [
    {
     "name": "stdout",
     "output_type": "stream",
     "text": [
      "/Users/ekabrams_work/Documents/cursor_projects/my-audio-summaries\n",
      "API keys loaded\n"
     ]
    }
   ],
   "source": [
    "load_dotenv()\n",
    "# Set base dir equal to parent directory \n",
    "notebook_path = Path().resolve()  # Gets the current working directory\n",
    "if notebook_path.name != os.getenv(\"ROOT_DIR\"):\n",
    "    os.chdir(notebook_path.parent)\n",
    "print(Path().resolve())\n",
    "if os.getenv(\"OPENAI_API_KEY\")  and os.getenv(\"GEMINI_API_KEY\"):        \n",
    "    print(\"API keys loaded\")\n",
    "else:\n",
    "    print(\"WARNING: API keys not found\")"
   ]
  },
  {
   "cell_type": "markdown",
   "metadata": {},
   "source": [
    "# Core Functions"
   ]
  },
  {
   "cell_type": "code",
   "execution_count": 6,
   "metadata": {},
   "outputs": [
    {
     "name": "stderr",
     "output_type": "stream",
     "text": [
      "\u001b[32m2025-01-07 16:57:05.927\u001b[0m | \u001b[1mINFO    \u001b[0m | \u001b[36m__main__\u001b[0m:\u001b[36mgenerate_audio\u001b[0m:\u001b[36m101\u001b[0m - \u001b[1mGenerated 3313 characters of audio\u001b[0m\n"
     ]
    },
    {
     "data": {
      "text/plain": [
       "('./sandbox_examples/audio/Gene-therapy-for-deafness_2025-01-07_16-57-05.mp3',\n",
       " 'female-1: Welcome to \"BioBreakthroughs,\" the podcast that explores the amazing advancements in the world of biology and medicine. Today, we\\'re diving deep into a truly remarkable story of hope and healing.\\n\\nfemale-1: And I\\'m thrilled to be joined by Dr. Anya Sharma, a leading geneticist who\\'s been at the forefront of this incredible work.\\n\\nfemale-2: It\\'s a pleasure to be here. Thanks for having me.\\n\\nfemale-1: Dr. Sharma, let\\'s talk about this groundbreaking gene therapy for hearing loss.  I\\'ve heard stories about children born deaf who are now hearing, and it\\'s absolutely incredible.\\n\\nfemale-2: It is. We\\'ve made significant strides in treating DFNB9, a type of hereditary deafness that affects about 2-8% of people born with hearing loss. Imagine your ears are a beautifully complex machine, and the OTOF gene is like a tiny, essential gear.  In DFNB9, this gear is broken, hindering the transmission of sound signals from the inner ear to the brain.\\n\\nfemale-1: So, how does gene therapy act as a \\'repair\\' for this \\'broken gear\\'?\\n\\nfemale-2: Think of it like a software update for your body. We\\'re using a harmless virus—an adeno-associated virus, or AAV—as a delivery system. This modified virus carries a healthy copy of the OTOF gene directly to the inner ear cells. It\\'s like replacing the faulty code with a functional one. The cells then begin producing the missing otoferlin protein, restoring the critical link in the hearing pathway.\\n\\nfemale-1: That\\'s truly amazing. And what have the results of the clinical trials been?\\n\\nfemale-2: The results have been astonishing. In a recent trial, five children received gene therapy in both ears.  Over a period of several weeks, they showed dramatic hearing improvements.  Two even began to appreciate music for the first time in their lives!  This is a big step forward, especially given the improvements in speech recognition and sound localization we observed when treatment included both ears.\\n\\nfemale-1: That\\'s incredible! Were there any side effects?\\n\\nfemale-2: Yes, some mild side effects were observed, primarily increased white blood cell count and cholesterol.  But importantly, none of these were serious or dose-limiting. The therapy was deemed safe and effective.\\n\\nfemale-1: That\\'s reassuring. So, what are the next steps in this research?\\n\\nfemale-2: The trial is ongoing and we’re conducting further monitoring, but the results have paved the way for larger international trials. This is an amazing moment; we\\'re not only addressing DFNB9 but also opening doors to treating other forms of genetic hearing loss. The potential for broader applications of this gene therapy technology is immensely exciting.\\n\\nfemale-1: Dr. Sharma, thank you so much for shedding light on this incredible breakthrough.  This is truly a testament to the power of scientific innovation and its potential to transform lives.\\n\\nfemale-2: My pleasure. I\\'m excited for what the future holds.\\n\\nfemale-1: And that\\'s all the time we have for today.  To recap, we\\'ve learned about the revolutionary gene therapy successfully treating children with DFNB9, a type of inherited deafness.  This minimally invasive procedure uses a modified virus to deliver a healthy copy of the OTOF gene, restoring hearing function. While there were mild side effects, the therapy proved safe and remarkably effective, opening doors to a future where genetic hearing loss might be a thing of the past.  Join us next time for more fascinating explorations of biological breakthroughs!\\n\\n')"
      ]
     },
     "execution_count": 6,
     "metadata": {},
     "output_type": "execute_result"
    }
   ],
   "source": [
    "example_list=[str(p) for p in Path(BASE_DIR / \"examples\").glob(\"*.pdf\")]\n",
    "example = example_list[0]\n",
    "generate_audio(example)\n"
   ]
  },
  {
   "cell_type": "markdown",
   "metadata": {},
   "source": [
    "# Split main function up into smaller functions"
   ]
  },
  {
   "cell_type": "code",
   "execution_count": 51,
   "metadata": {},
   "outputs": [
    {
     "name": "stdout",
     "output_type": "stream",
     "text": [
      "<class 'pypdf._page._VirtualList'>\n",
      "Cosmos » Biology\n",
      "Gene therapy restores hearing to children with inherited deafness\n",
      "Credit: Nick Dolding/Getty Images\n",
      "\u0000e \u0000rst clinical trial to administer gene therapy to both ears in one person has restored hearing function to 5\n",
      "children born with a form of inherited deafness, astounding the research team..\n",
      "Two of the children even gained an ability to appreciate music.\n",
      "\u0000e success of the new approach is detailed in a new study published in Nature M edicin e. \u0000e work builds on the \u0000rst\n",
      "phase of t\n"
     ]
    }
   ],
   "source": [
    "file = example_list[0]\n",
    "with Path(file).open(\"rb\") as f:\n",
    "        reader = PdfReader(f)\n",
    "        print(type(reader.pages))\n",
    "        tmp = reader.pages[0]\n",
    "        text = \"\\n\\n\".join([page.extract_text() for page in reader.pages])\n",
    "\n",
    "print(text[:500])\n",
    "text1 = text[:500]"
   ]
  },
  {
   "cell_type": "code",
   "execution_count": 1,
   "metadata": {},
   "outputs": [],
   "source": [
    "import asyncio\n",
    "from io import BytesIO\n",
    "from src.test_gmail_fetch import test_fetch\n",
    "\n",
    "# Assuming you have your PDF as bytes in a variable called pdf_bytes\n",
    "async def run_fetch():\n",
    "    return await test_fetch(verbose=True)\n",
    "\n",
    "documents = await run_fetch()\n",
    "print(f'{len(documents)} found, with titles:')\n",
    "print('\\n'.join(doc.title for doc in documents))\n"
   ]
  },
  {
   "cell_type": "code",
   "execution_count": 10,
   "metadata": {},
   "outputs": [
    {
     "name": "stdout",
     "output_type": "stream",
     "text": [
      "Searching with query: after:2025/01/01\n",
      "Found 9 emails with attachments\n"
     ]
    }
   ],
   "source": [
    "from googleapiclient.discovery import build\n",
    "import pickle\n",
    "from datetime import datetime, timedelta\n",
    "import os\n",
    "\n",
    "\n",
    "# Convert datetime to Gmail query format (YYYY/MM/DD)\n",
    "since = datetime.now() - timedelta(days=7)\n",
    "date_str = since.strftime(\"%Y/%m/%d\")\n",
    "# query = f\"has:attachment after:{date_str}\"\n",
    "query = f\"after:{date_str}\"\n",
    "\n",
    "print(f\"Searching with query: {query}\")\n",
    "\n",
    "if os.path.exists('credentials/token.pickle'):\n",
    "        with open('credentials/token.pickle', 'rb') as token:\n",
    "            creds = pickle.load(token)\n",
    "\n",
    "service = build('gmail', 'v1', credentials=creds)\n",
    "\n",
    "# Get list of messages matching our query\n",
    "results = service.users().messages().list(\n",
    "    userId='me',\n",
    "    q=query\n",
    "    ).execute()\n",
    "\n",
    "messages = results.get('messages', [])\n",
    "print(f\"Found {len(messages)} emails with attachments\")"
   ]
  },
  {
   "cell_type": "code",
   "execution_count": 32,
   "metadata": {},
   "outputs": [
    {
     "name": "stdout",
     "output_type": "stream",
     "text": [
      "[]\n"
     ]
    },
    {
     "ename": "IndexError",
     "evalue": "list index out of range",
     "output_type": "error",
     "traceback": [
      "\u001b[0;31m---------------------------------------------------------------------------\u001b[0m",
      "\u001b[0;31mIndexError\u001b[0m                                Traceback (most recent call last)",
      "Cell \u001b[0;32mIn[32], line 25\u001b[0m\n\u001b[1;32m     21\u001b[0m parts \u001b[38;5;241m=\u001b[39m get_parts(message_data[\u001b[38;5;124m'\u001b[39m\u001b[38;5;124mpayload\u001b[39m\u001b[38;5;124m'\u001b[39m])\n\u001b[1;32m     23\u001b[0m \u001b[38;5;28mprint\u001b[39m(parts)\n\u001b[0;32m---> 25\u001b[0m \u001b[38;5;28mprint\u001b[39m(json\u001b[38;5;241m.\u001b[39mdumps(\u001b[43mparts\u001b[49m\u001b[43m[\u001b[49m\u001b[38;5;241;43m1\u001b[39;49m\u001b[43m]\u001b[49m, indent\u001b[38;5;241m=\u001b[39m\u001b[38;5;241m2\u001b[39m))\n",
      "\u001b[0;31mIndexError\u001b[0m: list index out of range"
     ]
    }
   ],
   "source": [
    "import json\n",
    "def get_parts(payload):  \n",
    "        \"\"\"Recursively get all parts from the email payload\"\"\"\n",
    "        parts = []\n",
    "        \n",
    "        # If this part has parts, process them\n",
    "        if 'parts' in payload:\n",
    "            for part in payload['parts']:\n",
    "                parts.extend(get_parts(part))\n",
    "        \n",
    "        # Add this part if it's not a container\n",
    "        if payload.get('filename'):\n",
    "            parts.append(payload)\n",
    "            \n",
    "        return parts\n",
    "\n",
    "message = messages[1]\n",
    "message_id = message['id']\n",
    "\n",
    "message_data = service.users().messages().get(userId='me', id=message_id).execute()\n",
    "parts = get_parts(message_data['payload'])\n",
    "\n",
    "print(parts)\n",
    "\n",
    "print(json.dumps(parts[1], indent=2))"
   ]
  }
 ],
 "metadata": {
  "kernelspec": {
   "display_name": ".venv",
   "language": "python",
   "name": "python3"
  },
  "language_info": {
   "codemirror_mode": {
    "name": "ipython",
    "version": 3
   },
   "file_extension": ".py",
   "mimetype": "text/x-python",
   "name": "python",
   "nbconvert_exporter": "python",
   "pygments_lexer": "ipython3",
   "version": "3.12.8"
  }
 },
 "nbformat": 4,
 "nbformat_minor": 2
}
